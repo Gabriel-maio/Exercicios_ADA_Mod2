{
 "cells": [
  {
   "cell_type": "code",
   "execution_count": 282,
   "metadata": {},
   "outputs": [],
   "source": [
    "import pandas as pd\n",
    "import datetime as dt\n",
    "import numpy as np\n",
    "pd.options.display.max_columns = 35 \n",
    "#para aumentar a quantidade de colunas a serem visualizadas"
   ]
  },
  {
   "cell_type": "markdown",
   "metadata": {},
   "source": [
    "### Exercicios:"
   ]
  },
  {
   "cell_type": "markdown",
   "metadata": {},
   "source": [
    "#### 1 - Carregar os arquivos de cadastro, investimento1 e investimento2, e mostrar a quantidade de linhas de cada um, além das informações desses dataframes (por exemplo, o tipo dos dados das coluna)"
   ]
  },
  {
   "cell_type": "code",
   "execution_count": 283,
   "metadata": {},
   "outputs": [],
   "source": [
    "urls = [\"https://raw.githubusercontent.com/renatapink/DSdegree/master/Modulo2/Mini_projeto1/cadastro.csv\",\n",
    "        \"https://raw.githubusercontent.com/renatapink/DSdegree/master/Modulo2/Mini_projeto1/investimento_parte1.csv\",\n",
    "        \"https://raw.githubusercontent.com/renatapink/DSdegree/master/Modulo2/Mini_projeto1/investimento_parte2.csv\"]"
   ]
  },
  {
   "cell_type": "code",
   "execution_count": null,
   "metadata": {},
   "outputs": [],
   "source": [
    "cadastro = pd.read_csv(urls[0])\n",
    "#investimento1.shape[0]\n",
    "cadastro.info()"
   ]
  },
  {
   "cell_type": "code",
   "execution_count": null,
   "metadata": {},
   "outputs": [],
   "source": [
    "investimento2 = pd.read_csv(urls[1])\n",
    "investimento2.info()"
   ]
  },
  {
   "cell_type": "code",
   "execution_count": null,
   "metadata": {},
   "outputs": [],
   "source": [
    "investimento3 = pd.read_csv(urls[2])\n",
    "investimento3.info()"
   ]
  },
  {
   "cell_type": "markdown",
   "metadata": {},
   "source": [
    "#### 2 - Juntar os dataframes de investimento1 e investimento2 em um só e ver a quantidade de linhas\n",
    "\n",
    "Criar um novo dataframe  \n",
    "Dica: https://pandas.pydata.org/pandas-docs/stable/user_guide/merging.html"
   ]
  },
  {
   "cell_type": "code",
   "execution_count": null,
   "metadata": {},
   "outputs": [],
   "source": [
    "investimentoUmDois = pd.concat([investimento2, investimento3])\n",
    "investimentoUmDois"
   ]
  },
  {
   "cell_type": "markdown",
   "metadata": {},
   "source": [
    "#### 3 - Crie um novo dataframe eliminando as linhas duplicadas do item anterior"
   ]
  },
  {
   "cell_type": "code",
   "execution_count": null,
   "metadata": {},
   "outputs": [],
   "source": [
    "semDuplicata = investimentoUmDois.drop_duplicates()\n",
    "semDuplicata"
   ]
  },
  {
   "cell_type": "markdown",
   "metadata": {},
   "source": [
    "#### 4 - Junte o dataframe de investimento com o de cadastro, criando um novo dataframe\n",
    "Dica: use a coluna id como chave para juntar os dois dataframes"
   ]
  },
  {
   "cell_type": "code",
   "execution_count": null,
   "metadata": {},
   "outputs": [],
   "source": [
    "cadastroInvestimento = cadastro.merge(semDuplicata)\n",
    "cadastroInvestimento"
   ]
  },
  {
   "cell_type": "markdown",
   "metadata": {},
   "source": [
    "#### 5 - Ordene o dataframe pelo id, de forma crescente e redefina o índice"
   ]
  },
  {
   "cell_type": "code",
   "execution_count": null,
   "metadata": {},
   "outputs": [],
   "source": [
    "cadastroInvestimento.reset_index()"
   ]
  },
  {
   "cell_type": "markdown",
   "metadata": {},
   "source": [
    "#### 6 - Faça uma análise dos dados faltantes e trate-os\n",
    "\n",
    "Mostre todas as colunas com dados faltantes, sua quantidade/porcentagem e como tratar (preencher) cada uma delas explicando sua estratégia"
   ]
  },
  {
   "cell_type": "code",
   "execution_count": null,
   "metadata": {},
   "outputs": [],
   "source": [
    "cadastroInvestimento.isna().sum()"
   ]
  },
  {
   "cell_type": "code",
   "execution_count": null,
   "metadata": {},
   "outputs": [],
   "source": [
    "cadastroInvestimento.isna().sum() / len(cadastroInvestimento) * 100"
   ]
  },
  {
   "cell_type": "code",
   "execution_count": null,
   "metadata": {},
   "outputs": [],
   "source": [
    "cadastroFiltrado = cadastroInvestimento.fillna(0)\n",
    "cadastroFiltrado.isna().sum()"
   ]
  },
  {
   "cell_type": "markdown",
   "metadata": {},
   "source": [
    "#### 7 - Manipule os dados a seguir:\n",
    "1) Criar coluna \"Total\" somando o valor de todos os ativos por investidor\n",
    "2) Criar coluna \"Media\" com a média das notas 1 e 2\n",
    "3) Criar coluna \"Dominio\" com apenas o domínio do email (dica: separar por @)\n",
    "4) Mudar o nome da coluna \"Salário\" para \"Renda\" e tratar a coluna (sem caracter $ e tipo numérica)\n",
    "5) Mudar os dados da coluna \"Sexo\" para Masculino e Feminino (tente usar a função map)\n",
    "6) Transformar os dados da coluna Media em inteiro\n",
    "7) Criar coluna \"NPS\" onde o investidor é classificado como promotor se a média das notas é maior ou igual a 80, como neutro se a média estiver entre 50 e 80, e como detrator se for abaixo de 50"
   ]
  },
  {
   "cell_type": "code",
   "execution_count": null,
   "metadata": {},
   "outputs": [],
   "source": [
    "#1\n",
    "cadastroFiltrado['Total'] = cadastroFiltrado[['Ativo01', 'Ativo02', 'Ativo03', 'Ativo04', 'Ativo05', 'Ativo06', 'Ativo07']].sum(axis=1)\n",
    "cadastroFiltrado"
   ]
  },
  {
   "cell_type": "code",
   "execution_count": null,
   "metadata": {},
   "outputs": [],
   "source": [
    "#2\n",
    "cadastroFiltrado['Media'] = cadastroFiltrado[['Nota1', 'Nota2']].mean(axis=1)\n",
    "cadastroFiltrado"
   ]
  },
  {
   "cell_type": "code",
   "execution_count": null,
   "metadata": {},
   "outputs": [],
   "source": [
    "#3\n",
    "lista = cadastroFiltrado['Email'].str.split(pat=\"@\")\n",
    "\n",
    "cadastroFiltrado['Dominio'] = [array[:][1]for array in lista]\n",
    "cadastroFiltrado "
   ]
  },
  {
   "cell_type": "code",
   "execution_count": null,
   "metadata": {},
   "outputs": [],
   "source": [
    "#4\n",
    "cadastroFiltrado.rename(columns={'Renda': 'Salario'}, inplace=True)\n",
    "cadastroFiltrado['Salario'] = cadastroFiltrado['Salario'].str.replace('$', '')\n",
    "cadastroFiltrado['Salario'] = cadastroFiltrado['Salario'].astype(float)\n",
    "cadastroFiltrado.info()"
   ]
  },
  {
   "cell_type": "code",
   "execution_count": null,
   "metadata": {},
   "outputs": [],
   "source": [
    "#5\n",
    "cadastroFiltrado['Sexo'] = cadastroFiltrado['Sexo'].str.lower()\n",
    "cadastroFiltrado['Sexo'] = cadastroFiltrado['Sexo'].map({'fem': 'Feminino','masc': 'Masculino'})\n",
    "cadastroFiltrado"
   ]
  },
  {
   "cell_type": "code",
   "execution_count": null,
   "metadata": {},
   "outputs": [],
   "source": [
    "#6\n",
    "cadastroFiltrado['Media'] = cadastroFiltrado['Media'].round(0).astype(int)\n",
    "cadastroFiltrado.info()"
   ]
  },
  {
   "cell_type": "code",
   "execution_count": null,
   "metadata": {},
   "outputs": [],
   "source": [
    "#7\n",
    "cadastroFiltrado['NPS'] = cadastroFiltrado['Media'].apply(lambda valor: 'promotor' if valor==80 else ('neutro' if valor < 80 and valor >= 50 else 'detrator'))\n",
    "\n",
    "cadastroFiltrado"
   ]
  },
  {
   "cell_type": "markdown",
   "metadata": {},
   "source": [
    "#### 8 - Calcule os seguintes dados\n",
    "1) Calcule o total investido em cada coluna Ativo (tente usar o apply)\n",
    "2) Qual o menor valor investido em cada ativo?\n",
    "3) Mostre a média e desvio padrão de cada ativo\n",
    "4) Qual o nome e a idade do investidor mais velho?\n",
    "5) Qual a mediana da coluna Média?"
   ]
  },
  {
   "cell_type": "code",
   "execution_count": null,
   "metadata": {},
   "outputs": [],
   "source": [
    "#1\n",
    "cadastroFiltrado['Total'] = cadastroFiltrado[['Ativo01', 'Ativo02', 'Ativo03', 'Ativo04', 'Ativo05', 'Ativo06', 'Ativo07']].sum(axis=1)\n",
    "cadastroFiltrado"
   ]
  },
  {
   "cell_type": "code",
   "execution_count": null,
   "metadata": {},
   "outputs": [],
   "source": [
    "#2\n",
    "cadastroFiltrado[['Ativo01', 'Ativo02', 'Ativo03', 'Ativo04', 'Ativo05', 'Ativo06', 'Ativo07']].min()"
   ]
  },
  {
   "cell_type": "code",
   "execution_count": null,
   "metadata": {},
   "outputs": [],
   "source": [
    "#3\n",
    "cadastroFiltrado[['Ativo01', 'Ativo02', 'Ativo03', 'Ativo04', 'Ativo05', 'Ativo06', 'Ativo07']].mean()"
   ]
  },
  {
   "cell_type": "code",
   "execution_count": null,
   "metadata": {},
   "outputs": [],
   "source": [
    "np.std(cadastroFiltrado[['Ativo01', 'Ativo02', 'Ativo03', 'Ativo04', 'Ativo05', 'Ativo06', 'Ativo07']])"
   ]
  },
  {
   "cell_type": "code",
   "execution_count": null,
   "metadata": {},
   "outputs": [],
   "source": [
    "#4\n",
    "oi = cadastroFiltrado[(cadastroFiltrado['Idade'] == cadastroFiltrado['Idade'].max())].head(1)\n",
    "print(oi['Nome'][0], oi['Idade'][0])\n"
   ]
  },
  {
   "cell_type": "code",
   "execution_count": null,
   "metadata": {},
   "outputs": [],
   "source": [
    "#5\n",
    "cadastroFiltrado['Media'].median()"
   ]
  },
  {
   "cell_type": "markdown",
   "metadata": {},
   "source": [
    "#### 9 - Responder as perguntas abaixo\n",
    "\n",
    "1) Quantos investidores são agressivos, moderados e conservadores?\n",
    "2) Mostre os 10 primeiros ids dos investidores de perfil Agressivo e Moderado.\n",
    "3) Quantos investidores são do sexo feminino?\n",
    "4) Quantos investidores investiram mais de 16000 no Ativo04?\n",
    "5) Quantos investidores investiram mais de 16000 no Ativo04 e menos de 5000 no Ativo05?\n",
    "6) Quais investidores do sexo feminino tem mais de 25 anos e seu investimento total foi menor que 10000? \n",
    "\n",
    "\n",
    "7) Quantos investidores tem em cada estado (dica: use groupby)\n",
    "8) Qual é a soma do total investido por cada estado?\n",
    "9) Qual é a média do total investido por promotores, detratores e neutros? E como se dividem nos estados\n",
    "10) Crie 3 colunas \"dummies\" do perfil dos investidores\n",
    "\n",
    "\n",
    "11) Crie uma tabela com total de investimentos de promotores, detratores e neutros em função do perfil. (dica: use pivot_table)"
   ]
  },
  {
   "cell_type": "code",
   "execution_count": 307,
   "metadata": {},
   "outputs": [],
   "source": [
    "#1"
   ]
  },
  {
   "cell_type": "code",
   "execution_count": 308,
   "metadata": {},
   "outputs": [],
   "source": [
    "#2"
   ]
  },
  {
   "cell_type": "code",
   "execution_count": 309,
   "metadata": {},
   "outputs": [],
   "source": [
    "#3"
   ]
  },
  {
   "cell_type": "code",
   "execution_count": 310,
   "metadata": {},
   "outputs": [],
   "source": [
    "#4"
   ]
  },
  {
   "cell_type": "code",
   "execution_count": 311,
   "metadata": {},
   "outputs": [],
   "source": [
    "#5"
   ]
  },
  {
   "cell_type": "code",
   "execution_count": 312,
   "metadata": {},
   "outputs": [],
   "source": [
    "#6"
   ]
  },
  {
   "cell_type": "code",
   "execution_count": 313,
   "metadata": {},
   "outputs": [],
   "source": [
    "#7"
   ]
  },
  {
   "cell_type": "code",
   "execution_count": 314,
   "metadata": {},
   "outputs": [],
   "source": [
    "#8"
   ]
  },
  {
   "cell_type": "code",
   "execution_count": 315,
   "metadata": {},
   "outputs": [],
   "source": [
    "#9"
   ]
  },
  {
   "cell_type": "code",
   "execution_count": 316,
   "metadata": {},
   "outputs": [],
   "source": [
    "#10"
   ]
  },
  {
   "cell_type": "code",
   "execution_count": 317,
   "metadata": {},
   "outputs": [],
   "source": [
    "#11"
   ]
  },
  {
   "cell_type": "markdown",
   "metadata": {},
   "source": [
    "#### Bonus - Leitura de Arquivos Grandes"
   ]
  },
  {
   "cell_type": "code",
   "execution_count": null,
   "metadata": {},
   "outputs": [],
   "source": []
  }
 ],
 "metadata": {
  "kernelspec": {
   "display_name": "Python 3",
   "language": "python",
   "name": "python3"
  },
  "language_info": {
   "codemirror_mode": {
    "name": "ipython",
    "version": 3
   },
   "file_extension": ".py",
   "mimetype": "text/x-python",
   "name": "python",
   "nbconvert_exporter": "python",
   "pygments_lexer": "ipython3",
   "version": "3.11.9"
  }
 },
 "nbformat": 4,
 "nbformat_minor": 2
}
