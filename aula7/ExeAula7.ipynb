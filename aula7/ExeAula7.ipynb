{
 "cells": [
  {
   "cell_type": "code",
   "execution_count": 162,
   "metadata": {},
   "outputs": [],
   "source": [
    "import pandas as pd\n",
    "import datetime as dt\n",
    "pd.options.display.max_columns = 35 \n",
    "#para aumentar a quantidade de colunas a serem visualizadas"
   ]
  },
  {
   "cell_type": "markdown",
   "metadata": {},
   "source": [
    "### Exercicios:"
   ]
  },
  {
   "cell_type": "markdown",
   "metadata": {},
   "source": [
    "#### 1 - Carregar os arquivos de cadastro, investimento1 e investimento2, e mostrar a quantidade de linhas de cada um, além das informações desses dataframes (por exemplo, o tipo dos dados das coluna)"
   ]
  },
  {
   "cell_type": "code",
   "execution_count": 163,
   "metadata": {},
   "outputs": [],
   "source": [
    "urls = [\"https://raw.githubusercontent.com/renatapink/DSdegree/master/Modulo2/Mini_projeto1/cadastro.csv\",\n",
    "        \"https://raw.githubusercontent.com/renatapink/DSdegree/master/Modulo2/Mini_projeto1/investimento_parte1.csv\",\n",
    "        \"https://raw.githubusercontent.com/renatapink/DSdegree/master/Modulo2/Mini_projeto1/investimento_parte2.csv\"]"
   ]
  },
  {
   "cell_type": "code",
   "execution_count": null,
   "metadata": {},
   "outputs": [],
   "source": [
    "cadastro = pd.read_csv(urls[0])\n",
    "#investimento1.shape[0]\n",
    "cadastro.info()"
   ]
  },
  {
   "cell_type": "code",
   "execution_count": null,
   "metadata": {},
   "outputs": [],
   "source": [
    "investimento2 = pd.read_csv(urls[1])\n",
    "investimento2.info()"
   ]
  },
  {
   "cell_type": "code",
   "execution_count": null,
   "metadata": {},
   "outputs": [],
   "source": [
    "investimento3 = pd.read_csv(urls[2])\n",
    "investimento3.info()"
   ]
  },
  {
   "cell_type": "markdown",
   "metadata": {},
   "source": [
    "#### 2 - Juntar os dataframes de investimento1 e investimento2 em um só e ver a quantidade de linhas\n",
    "\n",
    "Criar um novo dataframe  \n",
    "Dica: https://pandas.pydata.org/pandas-docs/stable/user_guide/merging.html"
   ]
  },
  {
   "cell_type": "code",
   "execution_count": null,
   "metadata": {},
   "outputs": [],
   "source": [
    "investimentoUmDois = pd.concat([investimento2, investimento3])\n",
    "investimentoUmDois"
   ]
  },
  {
   "cell_type": "markdown",
   "metadata": {},
   "source": [
    "#### 3 - Crie um novo dataframe eliminando as linhas duplicadas do item anterior"
   ]
  },
  {
   "cell_type": "code",
   "execution_count": null,
   "metadata": {},
   "outputs": [],
   "source": [
    "semDuplicata = investimentoUmDois.drop_duplicates()\n",
    "semDuplicata"
   ]
  },
  {
   "cell_type": "markdown",
   "metadata": {},
   "source": [
    "#### 4 - Junte o dataframe de investimento com o de cadastro, criando um novo dataframe\n",
    "Dica: use a coluna id como chave para juntar os dois dataframes"
   ]
  },
  {
   "cell_type": "code",
   "execution_count": null,
   "metadata": {},
   "outputs": [],
   "source": [
    "cadastroInvestimento = cadastro.merge(semDuplicata)\n",
    "cadastroInvestimento"
   ]
  },
  {
   "cell_type": "markdown",
   "metadata": {},
   "source": [
    "#### 5 - Ordene o dataframe pelo id, de forma crescente e redefina o índice"
   ]
  },
  {
   "cell_type": "code",
   "execution_count": null,
   "metadata": {},
   "outputs": [],
   "source": [
    "cadastroInvestimento.reset_index()"
   ]
  },
  {
   "cell_type": "markdown",
   "metadata": {},
   "source": [
    "#### 6 - Faça uma análise dos dados faltantes e trate-os\n",
    "\n",
    "Mostre todas as colunas com dados faltantes, sua quantidade/porcentagem e como tratar (preencher) cada uma delas explicando sua estratégia"
   ]
  },
  {
   "cell_type": "code",
   "execution_count": null,
   "metadata": {},
   "outputs": [],
   "source": [
    "cadastroInvestimento.isna().sum()"
   ]
  },
  {
   "cell_type": "code",
   "execution_count": null,
   "metadata": {},
   "outputs": [],
   "source": [
    "cadastroInvestimento.isna().sum() / len(cadastroInvestimento) * 100"
   ]
  },
  {
   "cell_type": "code",
   "execution_count": null,
   "metadata": {},
   "outputs": [],
   "source": [
    "cadastroFiltrado = cadastroInvestimento.fillna(0)\n",
    "cadastroFiltrado.isna().sum()"
   ]
  },
  {
   "cell_type": "markdown",
   "metadata": {},
   "source": [
    "#### 7 - Manipule os dados a seguir:\n",
    "1) Criar coluna \"Total\" somando o valor de todos os ativos por investidor\n",
    "2) Criar coluna \"Media\" com a média das notas 1 e 2\n",
    "3) Criar coluna \"Dominio\" com apenas o domínio do email (dica: separar por @)\n",
    "4) Mudar o nome da coluna \"Salário\" para \"Renda\" e tratar a coluna (sem caracter $ e tipo numérica)\n",
    "5) Mudar os dados da coluna \"Sexo\" para Masculino e Feminino (tente usar a função map)\n",
    "6) Transformar os dados da coluna Media em inteiro\n",
    "7) Criar coluna \"NPS\" onde o investidor é classificado como promotor se a média das notas é maior ou igual a 80, como neutro se a média estiver entre 50 e 80, e como detrator se for abaixo de 50"
   ]
  },
  {
   "cell_type": "code",
   "execution_count": null,
   "metadata": {},
   "outputs": [],
   "source": [
    "#1\n",
    "cadastroFiltrado['Total'] = cadastroFiltrado[['Ativo01', 'Ativo02', 'Ativo03', 'Ativo04', 'Ativo05', 'Ativo06', 'Ativo07']].sum(axis=1)\n",
    "cadastroFiltrado"
   ]
  },
  {
   "cell_type": "code",
   "execution_count": null,
   "metadata": {},
   "outputs": [],
   "source": [
    "#2\n",
    "cadastroFiltrado['Media'] = cadastroFiltrado[['Nota1', 'Nota2']].mean(axis=1)\n",
    "cadastroFiltrado"
   ]
  },
  {
   "cell_type": "code",
   "execution_count": null,
   "metadata": {},
   "outputs": [],
   "source": [
    "#3\n",
    "lista = cadastroFiltrado['Email'].str.split(pat=\"@\")\n",
    "\n",
    "cadastroFiltrado['Dominio'] = [array[:][1]for array in lista]\n",
    "cadastroFiltrado "
   ]
  },
  {
   "cell_type": "code",
   "execution_count": null,
   "metadata": {},
   "outputs": [],
   "source": [
    "#4\n",
    "cadastroFiltrado.rename(columns={'Renda': 'Salario'}, inplace=True)\n",
    "cadastroFiltrado['Salario'] = cadastroFiltrado['Salario'].str.replace('$', '')\n",
    "cadastroFiltrado['Salario'] = cadastroFiltrado['Salario'].astype(float)\n",
    "cadastroFiltrado.info()"
   ]
  },
  {
   "cell_type": "code",
   "execution_count": null,
   "metadata": {},
   "outputs": [],
   "source": [
    "#5\n",
    "cadastroFiltrado['Sexo'] = cadastroFiltrado['Sexo'].str.lower()\n",
    "cadastroFiltrado['Sexo'] = cadastroFiltrado['Sexo'].map({'fem': 'Feminino','masc': 'Masculino'})\n",
    "cadastroFiltrado"
   ]
  },
  {
   "cell_type": "code",
   "execution_count": 210,
   "metadata": {},
   "outputs": [
    {
     "name": "stdout",
     "output_type": "stream",
     "text": [
      "<class 'pandas.core.frame.DataFrame'>\n",
      "RangeIndex: 38754 entries, 0 to 38753\n",
      "Data columns (total 23 columns):\n",
      " #   Column    Non-Null Count  Dtype  \n",
      "---  ------    --------------  -----  \n",
      " 0   id        38754 non-null  object \n",
      " 1   Nome      38754 non-null  object \n",
      " 2   Sexo      38754 non-null  object \n",
      " 3   Nasc      38754 non-null  object \n",
      " 4   Idade     38754 non-null  int64  \n",
      " 5   Email     38754 non-null  object \n",
      " 6   Lat_long  38754 non-null  object \n",
      " 7   Job       38754 non-null  object \n",
      " 8   Estado    38754 non-null  object \n",
      " 9   Salario   38754 non-null  float64\n",
      " 10  Perfil    38754 non-null  object \n",
      " 11  Ativo01   38754 non-null  float64\n",
      " 12  Ativo02   38754 non-null  float64\n",
      " 13  Ativo03   38754 non-null  float64\n",
      " 14  Ativo04   38754 non-null  float64\n",
      " 15  Ativo05   38754 non-null  float64\n",
      " 16  Ativo06   38754 non-null  float64\n",
      " 17  Ativo07   38754 non-null  float64\n",
      " 18  Nota1     38754 non-null  float64\n",
      " 19  Nota2     38754 non-null  float64\n",
      " 20  Total     38754 non-null  float64\n",
      " 21  Media     38754 non-null  int64  \n",
      " 22  Dominio   38754 non-null  object \n",
      "dtypes: float64(11), int64(2), object(10)\n",
      "memory usage: 6.8+ MB\n"
     ]
    }
   ],
   "source": [
    "#6\n",
    "cadastroFiltrado['Media'] = cadastroFiltrado['Media'].round(0).astype(int)\n",
    "cadastroFiltrado.info()"
   ]
  },
  {
   "cell_type": "code",
   "execution_count": 231,
   "metadata": {},
   "outputs": [
    {
     "data": {
      "text/html": [
       "<div>\n",
       "<style scoped>\n",
       "    .dataframe tbody tr th:only-of-type {\n",
       "        vertical-align: middle;\n",
       "    }\n",
       "\n",
       "    .dataframe tbody tr th {\n",
       "        vertical-align: top;\n",
       "    }\n",
       "\n",
       "    .dataframe thead th {\n",
       "        text-align: right;\n",
       "    }\n",
       "</style>\n",
       "<table border=\"1\" class=\"dataframe\">\n",
       "  <thead>\n",
       "    <tr style=\"text-align: right;\">\n",
       "      <th></th>\n",
       "      <th>id</th>\n",
       "      <th>Nome</th>\n",
       "      <th>Sexo</th>\n",
       "      <th>Nasc</th>\n",
       "      <th>Idade</th>\n",
       "      <th>Email</th>\n",
       "      <th>Lat_long</th>\n",
       "      <th>Job</th>\n",
       "      <th>Estado</th>\n",
       "      <th>Salario</th>\n",
       "      <th>Perfil</th>\n",
       "      <th>Ativo01</th>\n",
       "      <th>Ativo02</th>\n",
       "      <th>Ativo03</th>\n",
       "      <th>Ativo04</th>\n",
       "      <th>Ativo05</th>\n",
       "      <th>Ativo06</th>\n",
       "      <th>Ativo07</th>\n",
       "      <th>Nota1</th>\n",
       "      <th>Nota2</th>\n",
       "      <th>Total</th>\n",
       "      <th>Media</th>\n",
       "      <th>Dominio</th>\n",
       "      <th>NPS</th>\n",
       "    </tr>\n",
       "  </thead>\n",
       "  <tbody>\n",
       "    <tr>\n",
       "      <th>0</th>\n",
       "      <td>id0000001</td>\n",
       "      <td>Eunice Hellen do Vale</td>\n",
       "      <td>Feminino</td>\n",
       "      <td>1970-11-12</td>\n",
       "      <td>51</td>\n",
       "      <td>djones@yahoo.com</td>\n",
       "      <td>(Decimal('24.7024355'), Decimal('-28.038258'))</td>\n",
       "      <td>Technical author</td>\n",
       "      <td>TO</td>\n",
       "      <td>63.67</td>\n",
       "      <td>Moderado</td>\n",
       "      <td>1174.27</td>\n",
       "      <td>4980.98</td>\n",
       "      <td>2638.24</td>\n",
       "      <td>0.00</td>\n",
       "      <td>4480.91</td>\n",
       "      <td>2329.72</td>\n",
       "      <td>480.72</td>\n",
       "      <td>79.600372</td>\n",
       "      <td>9.802620</td>\n",
       "      <td>16084.84</td>\n",
       "      <td>45</td>\n",
       "      <td>yahoo.com</td>\n",
       "      <td>detrator</td>\n",
       "    </tr>\n",
       "    <tr>\n",
       "      <th>1</th>\n",
       "      <td>id0000002</td>\n",
       "      <td>Sebastião Castelo Branco Júnior</td>\n",
       "      <td>Masculino</td>\n",
       "      <td>2019-12-10</td>\n",
       "      <td>2</td>\n",
       "      <td>barnesandrea@yahoo.com</td>\n",
       "      <td>(Decimal('21.8589875'), Decimal('122.830566'))</td>\n",
       "      <td>Biochemist, clinical</td>\n",
       "      <td>DF</td>\n",
       "      <td>21.96</td>\n",
       "      <td>Moderado</td>\n",
       "      <td>842.12</td>\n",
       "      <td>5646.09</td>\n",
       "      <td>3336.07</td>\n",
       "      <td>0.00</td>\n",
       "      <td>5624.22</td>\n",
       "      <td>2669.98</td>\n",
       "      <td>504.17</td>\n",
       "      <td>44.406893</td>\n",
       "      <td>90.512871</td>\n",
       "      <td>18622.65</td>\n",
       "      <td>67</td>\n",
       "      <td>yahoo.com</td>\n",
       "      <td>neutro</td>\n",
       "    </tr>\n",
       "    <tr>\n",
       "      <th>2</th>\n",
       "      <td>id0000003</td>\n",
       "      <td>Romildo Fábio de Carvalho</td>\n",
       "      <td>Masculino</td>\n",
       "      <td>2015-12-28</td>\n",
       "      <td>6</td>\n",
       "      <td>walkermichael@yahoo.com</td>\n",
       "      <td>(Decimal('-28.2161525'), Decimal('97.140529'))</td>\n",
       "      <td>Development worker, international aid</td>\n",
       "      <td>DF</td>\n",
       "      <td>62497.64</td>\n",
       "      <td>Agressivo</td>\n",
       "      <td>818.81</td>\n",
       "      <td>5516.52</td>\n",
       "      <td>3396.64</td>\n",
       "      <td>0.00</td>\n",
       "      <td>5033.83</td>\n",
       "      <td>2229.45</td>\n",
       "      <td>523.12</td>\n",
       "      <td>44.020024</td>\n",
       "      <td>65.060941</td>\n",
       "      <td>17518.37</td>\n",
       "      <td>55</td>\n",
       "      <td>yahoo.com</td>\n",
       "      <td>neutro</td>\n",
       "    </tr>\n",
       "    <tr>\n",
       "      <th>3</th>\n",
       "      <td>id0000004</td>\n",
       "      <td>Lana Albina de Lemos Mumy</td>\n",
       "      <td>Feminino</td>\n",
       "      <td>1993-05-03</td>\n",
       "      <td>28</td>\n",
       "      <td>cobbangela@hotmail.com</td>\n",
       "      <td>(Decimal('-40.8557635'), Decimal('-2.936099'))</td>\n",
       "      <td>Estate manager/land agent</td>\n",
       "      <td>DF</td>\n",
       "      <td>99878.74</td>\n",
       "      <td>Agressivo</td>\n",
       "      <td>0.00</td>\n",
       "      <td>5258.69</td>\n",
       "      <td>3723.10</td>\n",
       "      <td>0.00</td>\n",
       "      <td>5933.91</td>\n",
       "      <td>0.00</td>\n",
       "      <td>486.05</td>\n",
       "      <td>25.597924</td>\n",
       "      <td>86.548918</td>\n",
       "      <td>15401.75</td>\n",
       "      <td>56</td>\n",
       "      <td>hotmail.com</td>\n",
       "      <td>neutro</td>\n",
       "    </tr>\n",
       "    <tr>\n",
       "      <th>4</th>\n",
       "      <td>id0000005</td>\n",
       "      <td>Rose Elisângela Vyrnium de Moura</td>\n",
       "      <td>Feminino</td>\n",
       "      <td>1984-06-10</td>\n",
       "      <td>37</td>\n",
       "      <td>crawfordcraig@yahoo.com</td>\n",
       "      <td>(Decimal('-20.2620885'), Decimal('104.349223'))</td>\n",
       "      <td>Chartered public finance accountant</td>\n",
       "      <td>MS</td>\n",
       "      <td>188.01</td>\n",
       "      <td>Conservador</td>\n",
       "      <td>1505.16</td>\n",
       "      <td>6415.30</td>\n",
       "      <td>3462.67</td>\n",
       "      <td>30841.35</td>\n",
       "      <td>6044.86</td>\n",
       "      <td>2198.89</td>\n",
       "      <td>512.98</td>\n",
       "      <td>14.463307</td>\n",
       "      <td>33.566292</td>\n",
       "      <td>50981.21</td>\n",
       "      <td>24</td>\n",
       "      <td>yahoo.com</td>\n",
       "      <td>detrator</td>\n",
       "    </tr>\n",
       "    <tr>\n",
       "      <th>...</th>\n",
       "      <td>...</td>\n",
       "      <td>...</td>\n",
       "      <td>...</td>\n",
       "      <td>...</td>\n",
       "      <td>...</td>\n",
       "      <td>...</td>\n",
       "      <td>...</td>\n",
       "      <td>...</td>\n",
       "      <td>...</td>\n",
       "      <td>...</td>\n",
       "      <td>...</td>\n",
       "      <td>...</td>\n",
       "      <td>...</td>\n",
       "      <td>...</td>\n",
       "      <td>...</td>\n",
       "      <td>...</td>\n",
       "      <td>...</td>\n",
       "      <td>...</td>\n",
       "      <td>...</td>\n",
       "      <td>...</td>\n",
       "      <td>...</td>\n",
       "      <td>...</td>\n",
       "      <td>...</td>\n",
       "      <td>...</td>\n",
       "    </tr>\n",
       "    <tr>\n",
       "      <th>38749</th>\n",
       "      <td>id0038750</td>\n",
       "      <td>Beatriz Maísa de Miranda Milani</td>\n",
       "      <td>Feminino</td>\n",
       "      <td>1999-02-20</td>\n",
       "      <td>22</td>\n",
       "      <td>mark47@gmail.com</td>\n",
       "      <td>(Decimal('-23.8494875'), Decimal('-91.561304'))</td>\n",
       "      <td>Further education lecturer</td>\n",
       "      <td>RS</td>\n",
       "      <td>4993.49</td>\n",
       "      <td>Moderado</td>\n",
       "      <td>1001.01</td>\n",
       "      <td>5561.55</td>\n",
       "      <td>0.00</td>\n",
       "      <td>8454.99</td>\n",
       "      <td>0.00</td>\n",
       "      <td>2191.78</td>\n",
       "      <td>489.76</td>\n",
       "      <td>66.644257</td>\n",
       "      <td>6.462871</td>\n",
       "      <td>17699.09</td>\n",
       "      <td>37</td>\n",
       "      <td>gmail.com</td>\n",
       "      <td>detrator</td>\n",
       "    </tr>\n",
       "    <tr>\n",
       "      <th>38750</th>\n",
       "      <td>id0038751</td>\n",
       "      <td>Juan dos Santos</td>\n",
       "      <td>Masculino</td>\n",
       "      <td>1999-07-10</td>\n",
       "      <td>22</td>\n",
       "      <td>greggnguyen@hotmail.com</td>\n",
       "      <td>(Decimal('-7.8876355'), Decimal('155.835880'))</td>\n",
       "      <td>Adult guidance worker</td>\n",
       "      <td>PI</td>\n",
       "      <td>41218.63</td>\n",
       "      <td>Moderado</td>\n",
       "      <td>1532.51</td>\n",
       "      <td>5102.84</td>\n",
       "      <td>3097.50</td>\n",
       "      <td>11243.08</td>\n",
       "      <td>4692.11</td>\n",
       "      <td>2368.93</td>\n",
       "      <td>496.02</td>\n",
       "      <td>96.987294</td>\n",
       "      <td>72.333030</td>\n",
       "      <td>28532.99</td>\n",
       "      <td>85</td>\n",
       "      <td>hotmail.com</td>\n",
       "      <td>detrator</td>\n",
       "    </tr>\n",
       "    <tr>\n",
       "      <th>38751</th>\n",
       "      <td>id0038752</td>\n",
       "      <td>Severino Edson de Viana Loase</td>\n",
       "      <td>Masculino</td>\n",
       "      <td>1981-12-01</td>\n",
       "      <td>40</td>\n",
       "      <td>cindy11@yahoo.com</td>\n",
       "      <td>(Decimal('-52.1338005'), Decimal('-59.715325'))</td>\n",
       "      <td>Arts development officer</td>\n",
       "      <td>PR</td>\n",
       "      <td>32.41</td>\n",
       "      <td>Agressivo</td>\n",
       "      <td>1163.90</td>\n",
       "      <td>4911.63</td>\n",
       "      <td>3746.62</td>\n",
       "      <td>0.00</td>\n",
       "      <td>6733.79</td>\n",
       "      <td>2338.43</td>\n",
       "      <td>504.32</td>\n",
       "      <td>32.139610</td>\n",
       "      <td>22.742974</td>\n",
       "      <td>19398.69</td>\n",
       "      <td>27</td>\n",
       "      <td>yahoo.com</td>\n",
       "      <td>detrator</td>\n",
       "    </tr>\n",
       "    <tr>\n",
       "      <th>38752</th>\n",
       "      <td>id0038753</td>\n",
       "      <td>Kim Mooshi</td>\n",
       "      <td>Masculino</td>\n",
       "      <td>1999-12-06</td>\n",
       "      <td>22</td>\n",
       "      <td>mcdonaldmario@gmail.com</td>\n",
       "      <td>(Decimal('-81.2874995'), Decimal('-28.805800'))</td>\n",
       "      <td>Production manager</td>\n",
       "      <td>RJ</td>\n",
       "      <td>914.52</td>\n",
       "      <td>Conservador</td>\n",
       "      <td>0.00</td>\n",
       "      <td>5532.35</td>\n",
       "      <td>2861.32</td>\n",
       "      <td>0.00</td>\n",
       "      <td>4921.77</td>\n",
       "      <td>2024.00</td>\n",
       "      <td>500.65</td>\n",
       "      <td>98.385080</td>\n",
       "      <td>56.611838</td>\n",
       "      <td>15840.09</td>\n",
       "      <td>77</td>\n",
       "      <td>gmail.com</td>\n",
       "      <td>neutro</td>\n",
       "    </tr>\n",
       "    <tr>\n",
       "      <th>38753</th>\n",
       "      <td>id0038754</td>\n",
       "      <td>Vinícius Arnaldo de Pereira Mendes</td>\n",
       "      <td>Masculino</td>\n",
       "      <td>2003-09-13</td>\n",
       "      <td>18</td>\n",
       "      <td>omartinez@hotmail.com</td>\n",
       "      <td>(Decimal('-37.248521'), Decimal('6.033254'))</td>\n",
       "      <td>Pension scheme manager</td>\n",
       "      <td>AL</td>\n",
       "      <td>29076.19</td>\n",
       "      <td>Moderado</td>\n",
       "      <td>981.62</td>\n",
       "      <td>4825.10</td>\n",
       "      <td>0.00</td>\n",
       "      <td>18085.88</td>\n",
       "      <td>5161.07</td>\n",
       "      <td>2257.66</td>\n",
       "      <td>507.95</td>\n",
       "      <td>29.660050</td>\n",
       "      <td>47.371606</td>\n",
       "      <td>31819.28</td>\n",
       "      <td>39</td>\n",
       "      <td>hotmail.com</td>\n",
       "      <td>detrator</td>\n",
       "    </tr>\n",
       "  </tbody>\n",
       "</table>\n",
       "<p>38754 rows × 24 columns</p>\n",
       "</div>"
      ],
      "text/plain": [
       "              id                                Nome       Sexo        Nasc  \\\n",
       "0      id0000001               Eunice Hellen do Vale   Feminino  1970-11-12   \n",
       "1      id0000002     Sebastião Castelo Branco Júnior  Masculino  2019-12-10   \n",
       "2      id0000003           Romildo Fábio de Carvalho  Masculino  2015-12-28   \n",
       "3      id0000004           Lana Albina de Lemos Mumy   Feminino  1993-05-03   \n",
       "4      id0000005    Rose Elisângela Vyrnium de Moura   Feminino  1984-06-10   \n",
       "...          ...                                 ...        ...         ...   \n",
       "38749  id0038750     Beatriz Maísa de Miranda Milani   Feminino  1999-02-20   \n",
       "38750  id0038751                     Juan dos Santos  Masculino  1999-07-10   \n",
       "38751  id0038752       Severino Edson de Viana Loase  Masculino  1981-12-01   \n",
       "38752  id0038753                          Kim Mooshi  Masculino  1999-12-06   \n",
       "38753  id0038754  Vinícius Arnaldo de Pereira Mendes  Masculino  2003-09-13   \n",
       "\n",
       "       Idade                    Email  \\\n",
       "0         51         djones@yahoo.com   \n",
       "1          2   barnesandrea@yahoo.com   \n",
       "2          6  walkermichael@yahoo.com   \n",
       "3         28   cobbangela@hotmail.com   \n",
       "4         37  crawfordcraig@yahoo.com   \n",
       "...      ...                      ...   \n",
       "38749     22         mark47@gmail.com   \n",
       "38750     22  greggnguyen@hotmail.com   \n",
       "38751     40        cindy11@yahoo.com   \n",
       "38752     22  mcdonaldmario@gmail.com   \n",
       "38753     18    omartinez@hotmail.com   \n",
       "\n",
       "                                              Lat_long  \\\n",
       "0       (Decimal('24.7024355'), Decimal('-28.038258'))   \n",
       "1       (Decimal('21.8589875'), Decimal('122.830566'))   \n",
       "2       (Decimal('-28.2161525'), Decimal('97.140529'))   \n",
       "3       (Decimal('-40.8557635'), Decimal('-2.936099'))   \n",
       "4      (Decimal('-20.2620885'), Decimal('104.349223'))   \n",
       "...                                                ...   \n",
       "38749  (Decimal('-23.8494875'), Decimal('-91.561304'))   \n",
       "38750   (Decimal('-7.8876355'), Decimal('155.835880'))   \n",
       "38751  (Decimal('-52.1338005'), Decimal('-59.715325'))   \n",
       "38752  (Decimal('-81.2874995'), Decimal('-28.805800'))   \n",
       "38753     (Decimal('-37.248521'), Decimal('6.033254'))   \n",
       "\n",
       "                                         Job Estado   Salario       Perfil  \\\n",
       "0                           Technical author     TO     63.67     Moderado   \n",
       "1                       Biochemist, clinical     DF     21.96     Moderado   \n",
       "2      Development worker, international aid     DF  62497.64    Agressivo   \n",
       "3                  Estate manager/land agent     DF  99878.74    Agressivo   \n",
       "4        Chartered public finance accountant     MS    188.01  Conservador   \n",
       "...                                      ...    ...       ...          ...   \n",
       "38749             Further education lecturer     RS   4993.49     Moderado   \n",
       "38750                  Adult guidance worker     PI  41218.63     Moderado   \n",
       "38751               Arts development officer     PR     32.41    Agressivo   \n",
       "38752                     Production manager     RJ    914.52  Conservador   \n",
       "38753                 Pension scheme manager     AL  29076.19     Moderado   \n",
       "\n",
       "       Ativo01  Ativo02  Ativo03   Ativo04  Ativo05  Ativo06  Ativo07  \\\n",
       "0      1174.27  4980.98  2638.24      0.00  4480.91  2329.72   480.72   \n",
       "1       842.12  5646.09  3336.07      0.00  5624.22  2669.98   504.17   \n",
       "2       818.81  5516.52  3396.64      0.00  5033.83  2229.45   523.12   \n",
       "3         0.00  5258.69  3723.10      0.00  5933.91     0.00   486.05   \n",
       "4      1505.16  6415.30  3462.67  30841.35  6044.86  2198.89   512.98   \n",
       "...        ...      ...      ...       ...      ...      ...      ...   \n",
       "38749  1001.01  5561.55     0.00   8454.99     0.00  2191.78   489.76   \n",
       "38750  1532.51  5102.84  3097.50  11243.08  4692.11  2368.93   496.02   \n",
       "38751  1163.90  4911.63  3746.62      0.00  6733.79  2338.43   504.32   \n",
       "38752     0.00  5532.35  2861.32      0.00  4921.77  2024.00   500.65   \n",
       "38753   981.62  4825.10     0.00  18085.88  5161.07  2257.66   507.95   \n",
       "\n",
       "           Nota1      Nota2     Total  Media      Dominio       NPS  \n",
       "0      79.600372   9.802620  16084.84     45    yahoo.com  detrator  \n",
       "1      44.406893  90.512871  18622.65     67    yahoo.com    neutro  \n",
       "2      44.020024  65.060941  17518.37     55    yahoo.com    neutro  \n",
       "3      25.597924  86.548918  15401.75     56  hotmail.com    neutro  \n",
       "4      14.463307  33.566292  50981.21     24    yahoo.com  detrator  \n",
       "...          ...        ...       ...    ...          ...       ...  \n",
       "38749  66.644257   6.462871  17699.09     37    gmail.com  detrator  \n",
       "38750  96.987294  72.333030  28532.99     85  hotmail.com  detrator  \n",
       "38751  32.139610  22.742974  19398.69     27    yahoo.com  detrator  \n",
       "38752  98.385080  56.611838  15840.09     77    gmail.com    neutro  \n",
       "38753  29.660050  47.371606  31819.28     39  hotmail.com  detrator  \n",
       "\n",
       "[38754 rows x 24 columns]"
      ]
     },
     "execution_count": 231,
     "metadata": {},
     "output_type": "execute_result"
    }
   ],
   "source": [
    "#7\n",
    "cadastroFiltrado['NPS'] = cadastroFiltrado['Media'].apply(lambda valor: 'promotor' if valor==80 else ('neutro' if valor < 80 and valor >= 50 else 'detrator'))\n",
    "\n",
    "cadastroFiltrado"
   ]
  },
  {
   "cell_type": "markdown",
   "metadata": {},
   "source": [
    "#### 8 - Calcule os seguintes dados\n",
    "1) Calcule o total investido em cada coluna Ativo (tente usar o apply)\n",
    "2) Qual o menor valor investido em cada ativo?\n",
    "3) Mostre a média e desvio padrão de cada ativo\n",
    "4) Qual o nome e a idade do investidor mais velho?\n",
    "5) Qual a mediana da coluna Média?"
   ]
  },
  {
   "cell_type": "code",
   "execution_count": 181,
   "metadata": {},
   "outputs": [],
   "source": [
    "#1"
   ]
  },
  {
   "cell_type": "code",
   "execution_count": 182,
   "metadata": {},
   "outputs": [],
   "source": [
    "#2"
   ]
  },
  {
   "cell_type": "code",
   "execution_count": 183,
   "metadata": {},
   "outputs": [],
   "source": [
    "#3"
   ]
  },
  {
   "cell_type": "code",
   "execution_count": 184,
   "metadata": {},
   "outputs": [],
   "source": [
    "#4"
   ]
  },
  {
   "cell_type": "code",
   "execution_count": 185,
   "metadata": {},
   "outputs": [],
   "source": [
    "#5"
   ]
  },
  {
   "cell_type": "markdown",
   "metadata": {},
   "source": [
    "#### 9 - Responder as perguntas abaixo\n",
    "\n",
    "1) Quantos investidores são agressivos, moderados e conservadores?\n",
    "2) Mostre os 10 primeiros ids dos investidores de perfil Agressivo e Moderado.\n",
    "3) Quantos investidores são do sexo feminino?\n",
    "4) Quantos investidores investiram mais de 16000 no Ativo04?\n",
    "5) Quantos investidores investiram mais de 16000 no Ativo04 e menos de 5000 no Ativo05?\n",
    "6) Quais investidores do sexo feminino tem mais de 25 anos e seu investimento total foi menor que 10000? \n",
    "\n",
    "\n",
    "7) Quantos investidores tem em cada estado (dica: use groupby)\n",
    "8) Qual é a soma do total investido por cada estado?\n",
    "9) Qual é a média do total investido por promotores, detratores e neutros? E como se dividem nos estados\n",
    "10) Crie 3 colunas \"dummies\" do perfil dos investidores\n",
    "\n",
    "\n",
    "11) Crie uma tabela com total de investimentos de promotores, detratores e neutros em função do perfil. (dica: use pivot_table)"
   ]
  },
  {
   "cell_type": "code",
   "execution_count": 186,
   "metadata": {},
   "outputs": [],
   "source": [
    "#1"
   ]
  },
  {
   "cell_type": "code",
   "execution_count": 187,
   "metadata": {},
   "outputs": [],
   "source": [
    "#2"
   ]
  },
  {
   "cell_type": "code",
   "execution_count": 188,
   "metadata": {},
   "outputs": [],
   "source": [
    "#3"
   ]
  },
  {
   "cell_type": "code",
   "execution_count": 189,
   "metadata": {},
   "outputs": [],
   "source": [
    "#4"
   ]
  },
  {
   "cell_type": "code",
   "execution_count": 190,
   "metadata": {},
   "outputs": [],
   "source": [
    "#5"
   ]
  },
  {
   "cell_type": "code",
   "execution_count": 191,
   "metadata": {},
   "outputs": [],
   "source": [
    "#6"
   ]
  },
  {
   "cell_type": "code",
   "execution_count": 192,
   "metadata": {},
   "outputs": [],
   "source": [
    "#7"
   ]
  },
  {
   "cell_type": "code",
   "execution_count": 193,
   "metadata": {},
   "outputs": [],
   "source": [
    "#8"
   ]
  },
  {
   "cell_type": "code",
   "execution_count": 194,
   "metadata": {},
   "outputs": [],
   "source": [
    "#9"
   ]
  },
  {
   "cell_type": "code",
   "execution_count": 195,
   "metadata": {},
   "outputs": [],
   "source": [
    "#10"
   ]
  },
  {
   "cell_type": "code",
   "execution_count": 196,
   "metadata": {},
   "outputs": [],
   "source": [
    "#11"
   ]
  },
  {
   "cell_type": "markdown",
   "metadata": {},
   "source": [
    "#### Bonus - Leitura de Arquivos Grandes"
   ]
  },
  {
   "cell_type": "code",
   "execution_count": null,
   "metadata": {},
   "outputs": [],
   "source": []
  }
 ],
 "metadata": {
  "kernelspec": {
   "display_name": "Python 3",
   "language": "python",
   "name": "python3"
  },
  "language_info": {
   "codemirror_mode": {
    "name": "ipython",
    "version": 3
   },
   "file_extension": ".py",
   "mimetype": "text/x-python",
   "name": "python",
   "nbconvert_exporter": "python",
   "pygments_lexer": "ipython3",
   "version": "3.11.9"
  }
 },
 "nbformat": 4,
 "nbformat_minor": 2
}
